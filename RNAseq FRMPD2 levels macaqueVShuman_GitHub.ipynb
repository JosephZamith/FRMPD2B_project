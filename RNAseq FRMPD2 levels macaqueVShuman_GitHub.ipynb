{
 "cells": [
  {
   "cell_type": "code",
   "execution_count": 3,
   "metadata": {},
   "outputs": [],
   "source": [
    "%matplotlib inline\n",
    "import pandas as pd\n",
    "import matplotlib.pyplot as plt\n",
    "import numpy as np\n"
   ]
  },
  {
   "cell_type": "code",
   "execution_count": 4,
   "metadata": {},
   "outputs": [],
   "source": [
    "data = pd.read_excel('mRNA-seq_QC_RKPM.xlsx')"
   ]
  },
  {
   "cell_type": "code",
   "execution_count": 6,
   "metadata": {},
   "outputs": [],
   "source": [
    "subdata=data[[\"Sample\",\"Species\",\"Brain\",\"Region\",\"Age\",\"Predicted_age\",\"F2B\"]]\n",
    "regions=[\"VFC\",\"MFC\",\"DFC\",\"OFC\",\"M1C\",\"S1C\",\"A1C\",\"V1C\",\"IPC\",\"STC\",\"ITC\"]\n",
    "#regions=[\"M1C\",\"S1C\",\"A1C\",\"V1C\"]\n",
    "subdata=subdata.query(\"Region in @regions\")"
   ]
  },
  {
   "cell_type": "code",
   "execution_count": 7,
   "metadata": {},
   "outputs": [],
   "source": [
    "macaque=subdata.query('Species==\"Macaque\"')\n",
    "human=subdata.query('Species==\"Human\"')"
   ]
  },
  {
   "cell_type": "code",
   "execution_count": 8,
   "metadata": {},
   "outputs": [],
   "source": [
    "# Grouper les données par temps et calculer la moyenne et l'écart-type\n",
    "human_grouped = human.groupby('Predicted_age').agg({'F2B': ['mean', 'sem']})\n",
    "macaque_grouped = macaque.groupby('Predicted_age').agg({'F2B': [np.mean, np.std]})\n",
    "\n",
    "# Renommer les colonnes pour une meilleure lisibilité\n",
    "human_grouped.columns = ['Mean', 'SEM']\n",
    "macaque_grouped.columns = ['Mean', 'STD']"
   ]
  },
  {
   "cell_type": "code",
   "execution_count": 10,
   "metadata": {},
   "outputs": [
    {
     "name": "stderr",
     "output_type": "stream",
     "text": [
      "/var/folders/9d/r0b5fdcn1vv81f_fr6lkyq6h0000gp/T/ipykernel_8193/568711966.py:2: SettingWithCopyWarning: \n",
      "A value is trying to be set on a copy of a slice from a DataFrame.\n",
      "Try using .loc[row_indexer,col_indexer] = value instead\n",
      "\n",
      "See the caveats in the documentation: https://pandas.pydata.org/pandas-docs/stable/user_guide/indexing.html#returning-a-view-versus-a-copy\n",
      "  human['log2_age'] = np.log2(human['Predicted_age'])\n"
     ]
    }
   ],
   "source": [
    "# Créer une nouvelle colonne 'log2_age' avec les valeurs de Predicted_age en log2\n",
    "human['log2_age'] = np.log2(human['Predicted_age'])\n",
    "\n",
    "# Définir les limites des tranches de log2\n",
    "bins = np.arange(np.floor(human['log2_age'].min()), np.ceil(human['log2_age'].max())+1)\n",
    "\n",
    "# Regrouper les données par tranche de log2\n",
    "human_grouped_log2 = human.groupby(pd.cut(human['log2_age'], bins=bins, include_lowest=True)).agg({'F2B': ['mean', 'sem']})\n",
    "\n",
    "# Supprimer l'index hiérarchique des colonnes\n",
    "human_grouped_log2.columns = human_grouped_log2.columns.droplevel(0)\n",
    "\n",
    "# Renommer les colonnes pour une meilleure lisibilité\n",
    "human_grouped_log2.columns = ['Mean', 'SEM']\n",
    "\n",
    "# Extraire le premier entier de chaque tranche de log2\n",
    "human_grouped_log2['log2_age'] = human_grouped_log2.index.astype(str).str.split(',').str[1].str.strip(']')\n",
    "human_grouped_log2 = human_grouped_log2.reset_index(drop=True)\n"
   ]
  },
  {
   "cell_type": "code",
   "execution_count": 12,
   "metadata": {},
   "outputs": [
    {
     "name": "stderr",
     "output_type": "stream",
     "text": [
      "/var/folders/9d/r0b5fdcn1vv81f_fr6lkyq6h0000gp/T/ipykernel_8193/4069638883.py:2: SettingWithCopyWarning: \n",
      "A value is trying to be set on a copy of a slice from a DataFrame.\n",
      "Try using .loc[row_indexer,col_indexer] = value instead\n",
      "\n",
      "See the caveats in the documentation: https://pandas.pydata.org/pandas-docs/stable/user_guide/indexing.html#returning-a-view-versus-a-copy\n",
      "  macaque['log2_age'] = np.log2(macaque['Predicted_age'])\n"
     ]
    }
   ],
   "source": [
    "# Créer une nouvelle colonne 'log2_age' avec les valeurs de Predicted_age en log2\n",
    "macaque['log2_age'] = np.log2(macaque['Predicted_age'])\n",
    "\n",
    "# Définir les limites des tranches de log2\n",
    "bins = np.arange(np.floor(macaque['log2_age'].min()), np.ceil(macaque['log2_age'].max())+1)\n",
    "\n",
    "# Regrouper les données par tranche de log2\n",
    "macaque_grouped_log2 = macaque.groupby(pd.cut(macaque['log2_age'], bins=bins, include_lowest=True)).agg({'F2B': ['mean', 'sem']})\n",
    "\n",
    "# Supprimer l'index hiérarchique des colonnes\n",
    "macaque_grouped_log2.columns = macaque_grouped_log2.columns.droplevel(0)\n",
    "\n",
    "\n",
    "\n",
    "# Renommer les colonnes pour une meilleure lisibilité\n",
    "macaque_grouped_log2.columns = ['Mean', 'SEM']\n",
    "\n",
    "# Extraire le premier entier de chaque tranche de log2\n",
    "macaque_grouped_log2['log2_age'] = macaque_grouped_log2.index.astype(str).str.split(',').str[1].str.strip(']')\n",
    "macaque_grouped_log2 = macaque_grouped_log2.reset_index(drop=True)\n"
   ]
  },
  {
   "cell_type": "code",
   "execution_count": 65,
   "metadata": {},
   "outputs": [],
   "source": [
    "# Créer un objet ExcelWriter pour écrire les deux DataFrames dans le même fichier\n",
    "writer = pd.ExcelWriter('extracted_RNAseq_macaqueVShuman_RKPM.xlsx', engine='xlsxwriter')\n",
    "\n",
    "# Écrire les deux DataFrames dans des feuilles différentes\n",
    "human_grouped.to_excel(writer, sheet_name='Human')\n",
    "macaque_grouped.to_excel(writer, sheet_name='Macaque')\n",
    "\n",
    "# Sauvegarder le fichier Excel\n",
    "writer.save()\n",
    "\n"
   ]
  },
  {
   "cell_type": "code",
   "execution_count": 67,
   "metadata": {},
   "outputs": [],
   "source": [
    "# Créer un objet ExcelWriter pour écrire les deux DataFrames dans le même fichier\n",
    "writer_log2 = pd.ExcelWriter('extracted_RNAseq_macaqueVShuman_log2_RKPM.xlsx', engine='xlsxwriter')\n",
    "\n",
    "# Écrire les deux DataFrames dans des feuilles différentes\n",
    "human_grouped_log2.to_excel(writer_log2, sheet_name='Human')\n",
    "macaque_grouped_log2.to_excel(writer_log2, sheet_name='Macaque')\n",
    "\n",
    "# Sauvegarder le fichier Excel\n",
    "writer_log2.save()"
   ]
  },
  {
   "cell_type": "code",
   "execution_count": null,
   "metadata": {},
   "outputs": [],
   "source": []
  },
  {
   "cell_type": "code",
   "execution_count": null,
   "metadata": {},
   "outputs": [],
   "source": []
  }
 ],
 "metadata": {
  "kernelspec": {
   "display_name": "Python 3",
   "language": "python",
   "name": "python3"
  },
  "language_info": {
   "codemirror_mode": {
    "name": "ipython",
    "version": 3
   },
   "file_extension": ".py",
   "mimetype": "text/x-python",
   "name": "python",
   "nbconvert_exporter": "python",
   "pygments_lexer": "ipython3",
   "version": "3.7.6"
  }
 },
 "nbformat": 4,
 "nbformat_minor": 4
}
